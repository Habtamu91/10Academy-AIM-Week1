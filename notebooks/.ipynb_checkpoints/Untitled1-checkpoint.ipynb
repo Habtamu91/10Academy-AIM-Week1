{
 "cells": [
  {
   "cell_type": "code",
   "execution_count": 1,
   "id": "149a7850-08c0-4d32-af84-1ee77b58b6b8",
   "metadata": {},
   "outputs": [
    {
     "ename": "ModuleNotFoundError",
     "evalue": "No module named 'talib'",
     "output_type": "error",
     "traceback": [
      "\u001b[31m---------------------------------------------------------------------------\u001b[39m",
      "\u001b[31mModuleNotFoundError\u001b[39m                       Traceback (most recent call last)",
      "\u001b[36mCell\u001b[39m\u001b[36m \u001b[39m\u001b[32mIn[1]\u001b[39m\u001b[32m, line 11\u001b[39m\n\u001b[32m      9\u001b[39m \u001b[38;5;66;03m# Sentiment and Technical Analysis Tools\u001b[39;00m\n\u001b[32m     10\u001b[39m \u001b[38;5;28;01mfrom\u001b[39;00m\u001b[38;5;250m \u001b[39m\u001b[34;01mtextblob\u001b[39;00m\u001b[38;5;250m \u001b[39m\u001b[38;5;28;01mimport\u001b[39;00m TextBlob\n\u001b[32m---> \u001b[39m\u001b[32m11\u001b[39m \u001b[38;5;28;01mimport\u001b[39;00m\u001b[38;5;250m \u001b[39m\u001b[34;01mtalib\u001b[39;00m\n\u001b[32m     12\u001b[39m \u001b[38;5;28;01mimport\u001b[39;00m\u001b[38;5;250m \u001b[39m\u001b[34;01mdatetime\u001b[39;00m\n",
      "\u001b[31mModuleNotFoundError\u001b[39m: No module named 'talib'"
     ]
    }
   ],
   "source": [
    "# Essential Libraries\n",
    "import pandas as pd\n",
    "import numpy as np\n",
    "import matplotlib.pyplot as plt\n",
    "import seaborn as sns\n",
    "import zipfile\n",
    "import os\n",
    "\n",
    "# Sentiment and Technical Analysis Tools\n",
    "from textblob import TextBlob\n",
    "import talib\n",
    "import datetime\n"
   ]
  },
  {
   "cell_type": "code",
   "execution_count": 8,
   "id": "4e7aa5cc-5935-45ad-b32a-6b8c0bd23a4a",
   "metadata": {},
   "outputs": [
    {
     "name": "stdout",
     "output_type": "stream",
     "text": [
      "         Date      Open      High       Low     Close  Adj Close     Volume  \\\n",
      "0  1980-12-12  0.128348  0.128906  0.128348  0.128348   0.098943  469033600   \n",
      "1  1980-12-15  0.122210  0.122210  0.121652  0.121652   0.093781  175884800   \n",
      "2  1980-12-16  0.113281  0.113281  0.112723  0.112723   0.086898  105728000   \n",
      "3  1980-12-17  0.115513  0.116071  0.115513  0.115513   0.089049   86441600   \n",
      "4  1980-12-18  0.118862  0.119420  0.118862  0.118862   0.091630   73449600   \n",
      "\n",
      "   Dividends  Stock Splits  \n",
      "0        0.0           0.0  \n",
      "1        0.0           0.0  \n",
      "2        0.0           0.0  \n",
      "3        0.0           0.0  \n",
      "4        0.0           0.0  \n"
     ]
    }
   ],
   "source": [
    "import zipfile\n",
    "import pandas as pd\n",
    "import os\n",
    "\n",
    "# Paths\n",
    "zip_path = 'C:/Users/dell/Downloads/yfinance_data.zip'\n",
    "extract_to = 'C:/Users/dell/Downloads/yfinance_data'  # Folder to extract to\n",
    "\n",
    "# Create directory if it doesn't exist\n",
    "os.makedirs(extract_to, exist_ok=True)\n",
    "\n",
    "# Extract the ZIP\n",
    "with zipfile.ZipFile(zip_path, 'r') as zip_ref:\n",
    "    zip_ref.extractall(extract_to)\n",
    "\n",
    "# Now read the CSV\n",
    "csv_path = f'{extract_to}/yfinance_data/AAPL_historical_data.csv'\n",
    "stock_df = pd.read_csv(csv_path)\n",
    "\n",
    "print(stock_df.head())"
   ]
  },
  {
   "cell_type": "code",
   "execution_count": 9,
   "id": "97b6c554-d3de-44b2-853f-e05a2ff4c356",
   "metadata": {},
   "outputs": [
    {
     "name": "stdout",
     "output_type": "stream",
     "text": [
      "   Unnamed: 0                                           headline  \\\n",
      "0           0            Stocks That Hit 52-Week Highs On Friday   \n",
      "1           1         Stocks That Hit 52-Week Highs On Wednesday   \n",
      "2           2                      71 Biggest Movers From Friday   \n",
      "3           3       46 Stocks Moving In Friday's Mid-Day Session   \n",
      "4           4  B of A Securities Maintains Neutral on Agilent...   \n",
      "\n",
      "                                                 url          publisher  \\\n",
      "0  https://www.benzinga.com/news/20/06/16190091/s...  Benzinga Insights   \n",
      "1  https://www.benzinga.com/news/20/06/16170189/s...  Benzinga Insights   \n",
      "2  https://www.benzinga.com/news/20/05/16103463/7...         Lisa Levin   \n",
      "3  https://www.benzinga.com/news/20/05/16095921/4...         Lisa Levin   \n",
      "4  https://www.benzinga.com/news/20/05/16095304/b...         Vick Meyer   \n",
      "\n",
      "                        date stock  \n",
      "0  2020-06-05 10:30:54-04:00     A  \n",
      "1  2020-06-03 10:45:20-04:00     A  \n",
      "2  2020-05-26 04:30:07-04:00     A  \n",
      "3  2020-05-22 12:45:06-04:00     A  \n",
      "4  2020-05-22 11:38:59-04:00     A  \n"
     ]
    }
   ],
   "source": [
    "import zipfile\n",
    "import pandas as pd\n",
    "\n",
    "# Paths\n",
    "zip_path = 'C:/Users/dell/Downloads/raw_analyst_ratings.csv.zip'\n",
    "extract_to = 'C:/Users/dell/Downloads/extracted_data'  # Folder to extract to\n",
    "\n",
    "# Extract the ZIP\n",
    "with zipfile.ZipFile(zip_path, 'r') as zip_ref:\n",
    "    zip_ref.extractall(extract_to)\n",
    "\n",
    "# Now read the CSV\n",
    "csv_path = f'{extract_to}/raw_analyst_ratings.csv'  # Adjust if filename is different\n",
    "ratings_df = pd.read_csv(csv_path)\n",
    "\n",
    "print(ratings_df.head())"
   ]
  },
  {
   "cell_type": "markdown",
   "id": "4f4ef9dc-5b85-42d0-bc25-480434d36225",
   "metadata": {},
   "source": [
    "# 3. Basic EDA"
   ]
  },
  {
   "cell_type": "code",
   "execution_count": 10,
   "id": "f4622946-8a3a-42ce-bdf2-606708c99b8e",
   "metadata": {
    "scrolled": true
   },
   "outputs": [
    {
     "name": "stdout",
     "output_type": "stream",
     "text": [
      "         Date      Open      High       Low     Close  Adj Close     Volume  \\\n",
      "0  1980-12-12  0.128348  0.128906  0.128348  0.128348   0.098943  469033600   \n",
      "1  1980-12-15  0.122210  0.122210  0.121652  0.121652   0.093781  175884800   \n",
      "2  1980-12-16  0.113281  0.113281  0.112723  0.112723   0.086898  105728000   \n",
      "3  1980-12-17  0.115513  0.116071  0.115513  0.115513   0.089049   86441600   \n",
      "4  1980-12-18  0.118862  0.119420  0.118862  0.118862   0.091630   73449600   \n",
      "\n",
      "   Dividends  Stock Splits  \n",
      "0        0.0           0.0  \n",
      "1        0.0           0.0  \n",
      "2        0.0           0.0  \n",
      "3        0.0           0.0  \n",
      "4        0.0           0.0  \n",
      "<class 'pandas.core.frame.DataFrame'>\n",
      "RangeIndex: 10998 entries, 0 to 10997\n",
      "Data columns (total 9 columns):\n",
      " #   Column        Non-Null Count  Dtype  \n",
      "---  ------        --------------  -----  \n",
      " 0   Date          10998 non-null  object \n",
      " 1   Open          10998 non-null  float64\n",
      " 2   High          10998 non-null  float64\n",
      " 3   Low           10998 non-null  float64\n",
      " 4   Close         10998 non-null  float64\n",
      " 5   Adj Close     10998 non-null  float64\n",
      " 6   Volume        10998 non-null  int64  \n",
      " 7   Dividends     10998 non-null  float64\n",
      " 8   Stock Splits  10998 non-null  float64\n",
      "dtypes: float64(7), int64(1), object(1)\n",
      "memory usage: 773.4+ KB\n",
      "None\n",
      "   Unnamed: 0                                           headline  \\\n",
      "0           0            Stocks That Hit 52-Week Highs On Friday   \n",
      "1           1         Stocks That Hit 52-Week Highs On Wednesday   \n",
      "2           2                      71 Biggest Movers From Friday   \n",
      "3           3       46 Stocks Moving In Friday's Mid-Day Session   \n",
      "4           4  B of A Securities Maintains Neutral on Agilent...   \n",
      "\n",
      "                                                 url          publisher  \\\n",
      "0  https://www.benzinga.com/news/20/06/16190091/s...  Benzinga Insights   \n",
      "1  https://www.benzinga.com/news/20/06/16170189/s...  Benzinga Insights   \n",
      "2  https://www.benzinga.com/news/20/05/16103463/7...         Lisa Levin   \n",
      "3  https://www.benzinga.com/news/20/05/16095921/4...         Lisa Levin   \n",
      "4  https://www.benzinga.com/news/20/05/16095304/b...         Vick Meyer   \n",
      "\n",
      "                        date stock  \n",
      "0  2020-06-05 10:30:54-04:00     A  \n",
      "1  2020-06-03 10:45:20-04:00     A  \n",
      "2  2020-05-26 04:30:07-04:00     A  \n",
      "3  2020-05-22 12:45:06-04:00     A  \n",
      "4  2020-05-22 11:38:59-04:00     A  \n",
      "publisher\n",
      "Paul Quintaro        228373\n",
      "Lisa Levin           186979\n",
      "Benzinga Newsdesk    150484\n",
      "Charles Gross         96732\n",
      "Monica Gerson         82380\n",
      "                      ...  \n",
      "Matthew Ely               1\n",
      "Frank Ochoa               1\n",
      "Jeremie Capron            1\n",
      "Marvin Dumont             1\n",
      "Igor Gonta                1\n",
      "Name: count, Length: 1034, dtype: int64\n"
     ]
    }
   ],
   "source": [
    "# Stock Data Overview\n",
    "print(stock_df.head())\n",
    "print(stock_df.info())\n",
    "\n",
    "# Ratings Dataset Overview\n",
    "print(ratings_df.head())\n",
    "print(ratings_df['publisher'].value_counts())\n",
    "ratings_df['headline_length'] = ratings_df['headline'].apply(len)\n"
   ]
  },
  {
   "cell_type": "markdown",
   "id": "1a9c990b-293f-46b9-80e4-3155d6d9fe6d",
   "metadata": {},
   "source": [
    "# 4. Sentiment Analysis (Task 3)\n"
   ]
  },
  {
   "cell_type": "code",
   "execution_count": null,
   "id": "44581256-6d19-4104-8942-8c5757a50c51",
   "metadata": {},
   "outputs": [],
   "source": [
    "\n",
    "# Compute sentiment (this part is working)\n",
    "ratings_df['sentiment'] = ratings_df['headline'].apply(lambda x: TextBlob(str(x)).sentiment.polarity)\n",
    "\n",
    "# Fix the datetime parsing - use one of these options:\n",
    "\n",
    "# OPTION 1: Let pandas automatically infer the format (recommended)\n",
    "ratings_df['date'] = pd.to_datetime(ratings_df['date'], format='mixed').dt.date\n",
    "\n",
    "# OPTION 2: Explicitly specify ISO8601 format\n",
    "ratings_df['date'] = pd.to_datetime(ratings_df['date'], format='ISO8601').dt.date\n",
    "\n",
    "# OPTION 3: If you know the exact format (e.g., \"2020-05-22 00:00:00\")\n",
    "ratings_df['date'] = pd.to_datetime(ratings_df['date'], format='%Y-%m-%d %H:%M:%S').dt.date\n",
    "\n",
    "# Then proceed with your analysis\n",
    "daily_sentiment = ratings_df.groupby('date')['sentiment'].mean().reset_index()"
   ]
  },
  {
   "cell_type": "markdown",
   "id": "2996da4e-3c9d-4914-b1e7-32bbe1dd6049",
   "metadata": {},
   "source": [
    "# 5. Time Series Technical Analysis (Task 2)"
   ]
  },
  {
   "cell_type": "code",
   "execution_count": null,
   "id": "37dce95b-7f41-44c5-8a97-d9d079bf487c",
   "metadata": {},
   "outputs": [],
   "source": [
    "# Convert stock date and compute daily return\n",
    "stock_df['Date'] = pd.to_datetime(stock_df['Date'])\n",
    "stock_df['daily_return'] = stock_df['Close'].pct_change()\n",
    "\n",
    "# Technical Indicators\n",
    "stock_df['SMA_10'] = talib.SMA(stock_df['Close'], timeperiod=10)\n",
    "stock_df['RSI'] = talib.RSI(stock_df['Close'], timeperiod=14)\n",
    "stock_df['MACD'], _, _ = talib.MACD(stock_df['Close'])\n",
    "\n",
    "# Visualize\n",
    "plt.figure(figsize=(12, 6))\n",
    "plt.plot(stock_df['Date'], stock_df['Close'], label='Close Price')\n",
    "plt.plot(stock_df['Date'], stock_df['SMA_10'], label='SMA_10')\n",
    "plt.legend()\n",
    "plt.title('Stock Price with SMA')\n",
    "plt.show()\n"
   ]
  },
  {
   "cell_type": "code",
   "execution_count": null,
   "id": "c5d2364c-221d-4bb5-9aee-e92b119a758b",
   "metadata": {},
   "outputs": [],
   "source": []
  }
 ],
 "metadata": {
  "kernelspec": {
   "display_name": "Python 3.13 (Correct)",
   "language": "python",
   "name": "py313"
  },
  "language_info": {
   "codemirror_mode": {
    "name": "ipython",
    "version": 3
   },
   "file_extension": ".py",
   "mimetype": "text/x-python",
   "name": "python",
   "nbconvert_exporter": "python",
   "pygments_lexer": "ipython3",
   "version": "3.13.3"
  }
 },
 "nbformat": 4,
 "nbformat_minor": 5
}
