{
 "cells": [
  {
   "cell_type": "code",
   "execution_count": 9,
   "id": "46628bc9-7fe3-4fd2-88cc-ec5e04cc6713",
   "metadata": {},
   "outputs": [],
   "source": [
    "# Essential Libraries\n",
    "import pandas as pd\n",
    "import numpy as np\n",
    "import matplotlib.pyplot as plt\n",
    "import seaborn as sns\n",
    "import zipfile\n",
    "import os\n",
    "\n",
    "# Sentiment and Technical Analysis Tools\n",
    "from textblob import TextBlob\n",
    "import pandas_ta as talib\n",
    "import datetime\n"
   ]
  },
  {
   "cell_type": "code",
   "execution_count": 10,
   "id": "36a7b105-9e68-464a-a282-62e201f1d94e",
   "metadata": {},
   "outputs": [
    {
     "name": "stdout",
     "output_type": "stream",
     "text": [
      "         Date      Open      High       Low     Close  Adj Close     Volume  \\\n",
      "0  1980-12-12  0.128348  0.128906  0.128348  0.128348   0.098943  469033600   \n",
      "1  1980-12-15  0.122210  0.122210  0.121652  0.121652   0.093781  175884800   \n",
      "2  1980-12-16  0.113281  0.113281  0.112723  0.112723   0.086898  105728000   \n",
      "3  1980-12-17  0.115513  0.116071  0.115513  0.115513   0.089049   86441600   \n",
      "4  1980-12-18  0.118862  0.119420  0.118862  0.118862   0.091630   73449600   \n",
      "\n",
      "   Dividends  Stock Splits  \n",
      "0        0.0           0.0  \n",
      "1        0.0           0.0  \n",
      "2        0.0           0.0  \n",
      "3        0.0           0.0  \n",
      "4        0.0           0.0  \n"
     ]
    }
   ],
   "source": [
    "\n",
    "# Paths\n",
    "zip_path = 'C:/Users/dell/Downloads/yfinance_data.zip'\n",
    "extract_to = 'C:/Users/dell/Downloads/yfinance_data'  # Folder to extract to\n",
    "\n",
    "# Create directory if it doesn't exist\n",
    "os.makedirs(extract_to, exist_ok=True)\n",
    "\n",
    "# Extract the ZIP\n",
    "with zipfile.ZipFile(zip_path, 'r') as zip_ref:\n",
    "    zip_ref.extractall(extract_to)\n",
    "\n",
    "# Now read the CSV\n",
    "csv_path = f'{extract_to}/yfinance_data/AAPL_historical_data.csv'\n",
    "stock_df = pd.read_csv(csv_path)\n",
    "\n",
    "print(stock_df.head())"
   ]
  },
  {
   "cell_type": "code",
   "execution_count": 11,
   "id": "a0956ca2-ead1-45e5-a222-543be98d0865",
   "metadata": {},
   "outputs": [
    {
     "name": "stdout",
     "output_type": "stream",
     "text": [
      "   Unnamed: 0                                           headline  \\\n",
      "0           0            Stocks That Hit 52-Week Highs On Friday   \n",
      "1           1         Stocks That Hit 52-Week Highs On Wednesday   \n",
      "2           2                      71 Biggest Movers From Friday   \n",
      "3           3       46 Stocks Moving In Friday's Mid-Day Session   \n",
      "4           4  B of A Securities Maintains Neutral on Agilent...   \n",
      "\n",
      "                                                 url          publisher  \\\n",
      "0  https://www.benzinga.com/news/20/06/16190091/s...  Benzinga Insights   \n",
      "1  https://www.benzinga.com/news/20/06/16170189/s...  Benzinga Insights   \n",
      "2  https://www.benzinga.com/news/20/05/16103463/7...         Lisa Levin   \n",
      "3  https://www.benzinga.com/news/20/05/16095921/4...         Lisa Levin   \n",
      "4  https://www.benzinga.com/news/20/05/16095304/b...         Vick Meyer   \n",
      "\n",
      "                        date stock  \n",
      "0  2020-06-05 10:30:54-04:00     A  \n",
      "1  2020-06-03 10:45:20-04:00     A  \n",
      "2  2020-05-26 04:30:07-04:00     A  \n",
      "3  2020-05-22 12:45:06-04:00     A  \n",
      "4  2020-05-22 11:38:59-04:00     A  \n"
     ]
    }
   ],
   "source": [
    "\n",
    "# Paths\n",
    "zip_path = 'C:/Users/dell/Downloads/raw_analyst_ratings.csv.zip'\n",
    "extract_to = 'C:/Users/dell/Downloads/extracted_data'  # Folder to extract to\n",
    "\n",
    "# Extract the ZIP\n",
    "with zipfile.ZipFile(zip_path, 'r') as zip_ref:\n",
    "    zip_ref.extractall(extract_to)\n",
    "\n",
    "# Now read the CSV\n",
    "csv_path = f'{extract_to}/raw_analyst_ratings.csv'  # Adjust if filename is different\n",
    "ratings_df = pd.read_csv(csv_path)\n",
    "\n",
    "print(ratings_df.head())"
   ]
  },
  {
   "cell_type": "markdown",
   "id": "1e9c5ef6-afb9-44ce-916f-b9b59fe5fb7d",
   "metadata": {},
   "source": [
    "# 3. Basic EDA"
   ]
  },
  {
   "cell_type": "code",
   "execution_count": 12,
   "id": "1f959b16-d3ad-4e2d-8a27-3f4f37ec3774",
   "metadata": {},
   "outputs": [
    {
     "name": "stdout",
     "output_type": "stream",
     "text": [
      "         Date      Open      High       Low     Close  Adj Close     Volume  \\\n",
      "0  1980-12-12  0.128348  0.128906  0.128348  0.128348   0.098943  469033600   \n",
      "1  1980-12-15  0.122210  0.122210  0.121652  0.121652   0.093781  175884800   \n",
      "2  1980-12-16  0.113281  0.113281  0.112723  0.112723   0.086898  105728000   \n",
      "3  1980-12-17  0.115513  0.116071  0.115513  0.115513   0.089049   86441600   \n",
      "4  1980-12-18  0.118862  0.119420  0.118862  0.118862   0.091630   73449600   \n",
      "\n",
      "   Dividends  Stock Splits  \n",
      "0        0.0           0.0  \n",
      "1        0.0           0.0  \n",
      "2        0.0           0.0  \n",
      "3        0.0           0.0  \n",
      "4        0.0           0.0  \n",
      "<class 'pandas.core.frame.DataFrame'>\n",
      "RangeIndex: 10998 entries, 0 to 10997\n",
      "Data columns (total 9 columns):\n",
      " #   Column        Non-Null Count  Dtype  \n",
      "---  ------        --------------  -----  \n",
      " 0   Date          10998 non-null  object \n",
      " 1   Open          10998 non-null  float64\n",
      " 2   High          10998 non-null  float64\n",
      " 3   Low           10998 non-null  float64\n",
      " 4   Close         10998 non-null  float64\n",
      " 5   Adj Close     10998 non-null  float64\n",
      " 6   Volume        10998 non-null  int64  \n",
      " 7   Dividends     10998 non-null  float64\n",
      " 8   Stock Splits  10998 non-null  float64\n",
      "dtypes: float64(7), int64(1), object(1)\n",
      "memory usage: 773.4+ KB\n",
      "None\n",
      "   Unnamed: 0                                           headline  \\\n",
      "0           0            Stocks That Hit 52-Week Highs On Friday   \n",
      "1           1         Stocks That Hit 52-Week Highs On Wednesday   \n",
      "2           2                      71 Biggest Movers From Friday   \n",
      "3           3       46 Stocks Moving In Friday's Mid-Day Session   \n",
      "4           4  B of A Securities Maintains Neutral on Agilent...   \n",
      "\n",
      "                                                 url          publisher  \\\n",
      "0  https://www.benzinga.com/news/20/06/16190091/s...  Benzinga Insights   \n",
      "1  https://www.benzinga.com/news/20/06/16170189/s...  Benzinga Insights   \n",
      "2  https://www.benzinga.com/news/20/05/16103463/7...         Lisa Levin   \n",
      "3  https://www.benzinga.com/news/20/05/16095921/4...         Lisa Levin   \n",
      "4  https://www.benzinga.com/news/20/05/16095304/b...         Vick Meyer   \n",
      "\n",
      "                        date stock  \n",
      "0  2020-06-05 10:30:54-04:00     A  \n",
      "1  2020-06-03 10:45:20-04:00     A  \n",
      "2  2020-05-26 04:30:07-04:00     A  \n",
      "3  2020-05-22 12:45:06-04:00     A  \n",
      "4  2020-05-22 11:38:59-04:00     A  \n",
      "publisher\n",
      "Paul Quintaro                      228373\n",
      "Lisa Levin                         186979\n",
      "Benzinga Newsdesk                  150484\n",
      "Charles Gross                       96732\n",
      "Monica Gerson                       82380\n",
      "                                    ...  \n",
      "Shazir Mucklai - Imperium Group         1\n",
      "Laura Jennings                          1\n",
      "Eric Martin                             1\n",
      "Jose Rodrigo                            1\n",
      "Jeremie Capron                          1\n",
      "Name: count, Length: 1034, dtype: int64\n"
     ]
    }
   ],
   "source": [
    "# Stock Data Overview\n",
    "print(stock_df.head())\n",
    "print(stock_df.info())\n",
    "\n",
    "# Ratings Dataset Overview\n",
    "print(ratings_df.head())\n",
    "print(ratings_df['publisher'].value_counts())\n",
    "ratings_df['headline_length'] = ratings_df['headline'].apply(len)\n"
   ]
  },
  {
   "cell_type": "markdown",
   "id": "c689f9ec-6311-44f2-bc10-5cc3e44834ce",
   "metadata": {},
   "source": [
    "# 4. Sentiment Analysis (Task 3)"
   ]
  },
  {
   "cell_type": "code",
   "execution_count": null,
   "id": "0f74de5e-b6b5-43d6-bf29-8e9e54f4cb4b",
   "metadata": {},
   "outputs": [],
   "source": [
    "# Sentiment score.\n",
    "ratings_df['sentiment'] = ratings_df['headline'].apply(lambda x: TextBlob(str(x)).sentiment.polarity)\n",
    "\n",
    "# Safely convert to datetime.\n",
    "ratings_df['date'] = pd.to_datetime(ratings_df['date'], errors='coerce')\n",
    "\n",
    "# Drop any rows where datetime conversion failed.\n",
    "ratings_df = ratings_df.dropna(subset=['date'])\n",
    "\n",
    "# Extract just the date.\n",
    "ratings_df['date'] = ratings_df['date'].dt.date\n",
    "\n",
    "# Daily average sentiment.\n",
    "daily_sentiment = ratings_df.groupby('date')['sentiment'].mean().reset_index()\n"
   ]
  },
  {
   "cell_type": "markdown",
   "id": "3d1753b1-b972-4985-b61d-666f0cdfe2f5",
   "metadata": {},
   "source": [
    "# 5. Time Series Technical Analysis (Task 2)"
   ]
  },
  {
   "cell_type": "code",
   "execution_count": 11,
   "id": "7a70bc62-b269-4bc6-81be-fcb93cb18cbd",
   "metadata": {},
   "outputs": [
    {
     "name": "stdout",
     "output_type": "stream",
     "text": [
      "Defaulting to user installation because normal site-packages is not writeable\n",
      "Requirement already satisfied: pandas_ta in c:\\users\\dell\\appdata\\roaming\\python\\python312\\site-packages (0.3.14b0)\n",
      "Requirement already satisfied: pandas in c:\\programdata\\anaconda3\\lib\\site-packages (from pandas_ta) (2.2.2)\n",
      "Requirement already satisfied: numpy>=1.26.0 in c:\\programdata\\anaconda3\\lib\\site-packages (from pandas->pandas_ta) (1.26.4)\n",
      "Requirement already satisfied: python-dateutil>=2.8.2 in c:\\programdata\\anaconda3\\lib\\site-packages (from pandas->pandas_ta) (2.9.0.post0)\n",
      "Requirement already satisfied: pytz>=2020.1 in c:\\programdata\\anaconda3\\lib\\site-packages (from pandas->pandas_ta) (2024.1)\n",
      "Requirement already satisfied: tzdata>=2022.7 in c:\\programdata\\anaconda3\\lib\\site-packages (from pandas->pandas_ta) (2023.3)\n",
      "Requirement already satisfied: six>=1.5 in c:\\programdata\\anaconda3\\lib\\site-packages (from python-dateutil>=2.8.2->pandas->pandas_ta) (1.16.0)\n",
      "Note: you may need to restart the kernel to use updated packages.\n"
     ]
    }
   ],
   "source": [
    "pip install pandas_ta --upgrade\n"
   ]
  },
  {
   "cell_type": "code",
   "execution_count": 8,
   "id": "98e80817-9069-41ea-8355-406b3b19ffce",
   "metadata": {},
   "outputs": [
    {
     "ename": "NameError",
     "evalue": "name 'csv_path' is not defined",
     "output_type": "error",
     "traceback": [
      "\u001b[1;31m---------------------------------------------------------------------------\u001b[0m",
      "\u001b[1;31mNameError\u001b[0m                                 Traceback (most recent call last)",
      "Cell \u001b[1;32mIn[8], line 2\u001b[0m\n\u001b[0;32m      1\u001b[0m \u001b[38;5;28;01mimport\u001b[39;00m \u001b[38;5;21;01mpandas_ta\u001b[39;00m \u001b[38;5;28;01mas\u001b[39;00m \u001b[38;5;21;01mta\u001b[39;00m\n\u001b[1;32m----> 2\u001b[0m stock_df \u001b[38;5;241m=\u001b[39m pd\u001b[38;5;241m.\u001b[39mread_csv(csv_path)\n\u001b[0;32m      4\u001b[0m \u001b[38;5;66;03m# Convert stock date and compute daily return\u001b[39;00m\n\u001b[0;32m      5\u001b[0m stock_df[\u001b[38;5;124m'\u001b[39m\u001b[38;5;124mDate\u001b[39m\u001b[38;5;124m'\u001b[39m] \u001b[38;5;241m=\u001b[39m pd\u001b[38;5;241m.\u001b[39mto_datetime(stock_df[\u001b[38;5;124m'\u001b[39m\u001b[38;5;124mDate\u001b[39m\u001b[38;5;124m'\u001b[39m])\n",
      "\u001b[1;31mNameError\u001b[0m: name 'csv_path' is not defined"
     ]
    }
   ],
   "source": [
    "import pandas_ta as ta\n",
    "stock_df = pd.read_csv(csv_path)\n",
    "\n",
    "# Convert stock date and compute daily return\n",
    "stock_df['Date'] = pd.to_datetime(stock_df['Date'])\n",
    "stock_df['daily_return'] = stock_df['Close'].pct_change()\n",
    "\n",
    "# Technical Indicators using pandas_ta\n",
    "stock_df['SMA_10'] = stock_df['Close'].ta.sma(length=10)\n",
    "stock_df['RSI'] = stock_df['Close'].ta.rsi(length=14)\n",
    "macd = stock_df['Close'].ta.macd()\n",
    "stock_df['MACD'] = macd['MACD_12_26_9']\n",
    "stock_df['MACD_signal'] = macd['MACDs_12_26_9']\n",
    "\n",
    "# Visualize\n",
    "plt.figure(figsize=(12, 6))\n",
    "plt.plot(stock_df['Date'], stock_df['Close'], label='Close Price')\n",
    "plt.plot(stock_df['Date'], stock_df['SMA_10'], label='SMA_10')\n",
    "plt.legend()\n",
    "plt.title('Stock Price with SMA')\n",
    "plt.show()\n"
   ]
  },
  {
   "cell_type": "code",
   "execution_count": 4,
   "id": "c74bd1d0-a74e-4418-afa8-ec2a4ec6e00a",
   "metadata": {},
   "outputs": [
    {
     "name": "stdout",
     "output_type": "stream",
     "text": [
      "Defaulting to user installation because normal site-packages is not writeable\n",
      "Requirement already satisfied: pandas_ta in c:\\users\\dell\\appdata\\roaming\\python\\python312\\site-packages (0.3.14b0)\n",
      "Requirement already satisfied: pandas in c:\\programdata\\anaconda3\\lib\\site-packages (from pandas_ta) (2.2.2)\n",
      "Requirement already satisfied: numpy>=1.26.0 in c:\\programdata\\anaconda3\\lib\\site-packages (from pandas->pandas_ta) (1.26.4)\n",
      "Requirement already satisfied: python-dateutil>=2.8.2 in c:\\programdata\\anaconda3\\lib\\site-packages (from pandas->pandas_ta) (2.9.0.post0)\n",
      "Requirement already satisfied: pytz>=2020.1 in c:\\programdata\\anaconda3\\lib\\site-packages (from pandas->pandas_ta) (2024.1)\n",
      "Requirement already satisfied: tzdata>=2022.7 in c:\\programdata\\anaconda3\\lib\\site-packages (from pandas->pandas_ta) (2023.3)\n",
      "Requirement already satisfied: six>=1.5 in c:\\programdata\\anaconda3\\lib\\site-packages (from python-dateutil>=2.8.2->pandas->pandas_ta) (1.16.0)\n"
     ]
    }
   ],
   "source": [
    "!pip install --upgrade pandas_ta\n"
   ]
  }
 ],
 "metadata": {
  "kernelspec": {
   "display_name": "Python 3 (ipykernel)",
   "language": "python",
   "name": "python3"
  },
  "language_info": {
   "codemirror_mode": {
    "name": "ipython",
    "version": 3
   },
   "file_extension": ".py",
   "mimetype": "text/x-python",
   "name": "python",
   "nbconvert_exporter": "python",
   "pygments_lexer": "ipython3",
   "version": "3.12.7"
  }
 },
 "nbformat": 4,
 "nbformat_minor": 5
}
